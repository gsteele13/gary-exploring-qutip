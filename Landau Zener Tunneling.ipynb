{
 "cells": [
  {
   "cell_type": "code",
   "execution_count": 1,
   "metadata": {},
   "outputs": [],
   "source": [
    "from qutip import *\n",
    "import numpy as np\n",
    "import matplotlib.pyplot as plt"
   ]
  },
  {
   "cell_type": "markdown",
   "metadata": {},
   "source": [
    "# Landau-Zener tunneling\n",
    "\n",
    "In this notebook, I will try to explore non-adiabatic time evolution using a fast ramp through an avoided crossing, which should result in Landau-Zener tunneling:\n",
    "\n",
    "https://en.wikipedia.org/wiki/Landau%E2%80%93Zener_formula\n",
    "\n",
    "For a slow (diabatic) ramp, we should remain in the ground state, whereas a fast (non-adiabatic) ramp, we should end up in the excited state."
   ]
  },
  {
   "cell_type": "markdown",
   "metadata": {},
   "source": [
    "## Hamiltonian\n",
    "\n",
    "Two level system with detuning and tunneling:\n",
    "\n",
    "$$\n",
    "|L\\rangle  = \n",
    "\\begin{pmatrix}\n",
    "1 \\\\\n",
    "0\n",
    "\\end{pmatrix}\n",
    "$$\n",
    "\n",
    "$$\n",
    "|R\\rangle  = \n",
    "\\begin{pmatrix}\n",
    "0 \\\\\n",
    "1\n",
    "\\end{pmatrix}\n",
    "$$\n",
    "\n",
    "Time-independent tunneling with amplitude $\\Delta$:\n",
    "\n",
    "$$\n",
    "H_0 = \n",
    "\\begin{pmatrix}\n",
    "0 & \\Delta \\\\\n",
    "\\Delta &  0 \n",
    "\\end{pmatrix}\n",
    "$$\n",
    "\n",
    "Time-dependent detuning:\n",
    "\n",
    "$$ \n",
    "H_1 = \n",
    "\\begin{pmatrix}\n",
    "\\epsilon (t) & 0 \\\\\n",
    "0 & 0 \n",
    "\\end{pmatrix}\n",
    "$$"
   ]
  },
  {
   "cell_type": "code",
   "execution_count": 2,
   "metadata": {},
   "outputs": [],
   "source": [
    "N = 2\n",
    "\n",
    "# Pick out time and energy  units: Delta = 1\n",
    "H_0 =  sigmax()\n",
    "\n",
    "# The  operator for our  time dependent Hamiltonian\n",
    "H_1 = Qobj([[1,0],[0,0]])\n",
    "\n",
    "# The function for our time dependent Hamiltonian. \n",
    "# We will take the shortcut  and use global variables to \n",
    "# define it's  parameters instead of using args\n",
    "# Our function will be a ramp from -eps_amp to eps_amp in  \n",
    "# a total ramp time of total_time\n",
    "\n",
    "def f(t,args):\n",
    "    return -eps_amp + 2*eps_amp * t/total_time\n",
    "\n",
    "# The Hamiltonian object\n",
    "H  =  [H_0, [H_1,  f]]\n",
    "\n",
    "# Our initial state: always  start  in left well\n",
    "\n",
    "psi0 = basis(N,0)"
   ]
  },
  {
   "cell_type": "code",
   "execution_count": 3,
   "metadata": {},
   "outputs": [
    {
     "data": {
      "text/latex": [
       "Quantum object: dims = [[2], [2]], shape = (2, 2), type = oper, isherm = True\\begin{equation*}\\left(\\begin{array}{*{11}c}0.0 & 1.0\\\\1.0 & 0.0\\\\\\end{array}\\right)\\end{equation*}"
      ],
      "text/plain": [
       "Quantum object: dims = [[2], [2]], shape = (2, 2), type = oper, isherm = True\n",
       "Qobj data =\n",
       "[[0. 1.]\n",
       " [1. 0.]]"
      ]
     },
     "execution_count": 3,
     "metadata": {},
     "output_type": "execute_result"
    }
   ],
   "source": [
    "H_0"
   ]
  },
  {
   "cell_type": "code",
   "execution_count": 4,
   "metadata": {
    "scrolled": false
   },
   "outputs": [
    {
     "data": {
      "text/latex": [
       "Quantum object: dims = [[2], [2]], shape = (2, 2), type = oper, isherm = True\\begin{equation*}\\left(\\begin{array}{*{11}c}1.0 & 0.0\\\\0.0 & 0.0\\\\\\end{array}\\right)\\end{equation*}"
      ],
      "text/plain": [
       "Quantum object: dims = [[2], [2]], shape = (2, 2), type = oper, isherm = True\n",
       "Qobj data =\n",
       "[[1. 0.]\n",
       " [0. 0.]]"
      ]
     },
     "execution_count": 4,
     "metadata": {},
     "output_type": "execute_result"
    }
   ],
   "source": [
    "H_1"
   ]
  },
  {
   "cell_type": "code",
   "execution_count": 5,
   "metadata": {},
   "outputs": [
    {
     "data": {
      "text/latex": [
       "Quantum object: dims = [[2], [1]], shape = (2, 1), type = ket\\begin{equation*}\\left(\\begin{array}{*{11}c}1.0\\\\0.0\\\\\\end{array}\\right)\\end{equation*}"
      ],
      "text/plain": [
       "Quantum object: dims = [[2], [1]], shape = (2, 1), type = ket\n",
       "Qobj data =\n",
       "[[1.]\n",
       " [0.]]"
      ]
     },
     "execution_count": 5,
     "metadata": {},
     "output_type": "execute_result"
    }
   ],
   "source": [
    "psi0"
   ]
  },
  {
   "cell_type": "code",
   "execution_count": 6,
   "metadata": {},
   "outputs": [],
   "source": [
    "def calculate_crossing():\n",
    "    t = np.linspace(0,total_time,100)\n",
    "    r = sesolve(H,psi0,t)\n",
    "    s =  r.states\n",
    "    print(\"Initial state:\\n\")\n",
    "    print(s[0])\n",
    "    print()\n",
    "    print(\"Final state:\\n\")\n",
    "    print(s[-1])\n",
    "    print()\n",
    "    print(\"Final state probabilities:\\n\")\n",
    "    print(np.abs(s[-1])**2)\n",
    "    return s[-1], s"
   ]
  },
  {
   "cell_type": "markdown",
   "metadata": {},
   "source": [
    "# Try some ramps\n",
    "\n",
    "## Slow ramp\n",
    "\n",
    "Start with negative $\\epsilon$ in the left well, then ramp epsilon slowly,  see where we end up. If total time is long enough, I should end up in right well.\n",
    "\n",
    "\n",
    "Total time will be 100 times slower than the characteristic time $1/\\Delta$. "
   ]
  },
  {
   "cell_type": "code",
   "execution_count": 9,
   "metadata": {
    "scrolled": true
   },
   "outputs": [
    {
     "name": "stdout",
     "output_type": "stream",
     "text": [
      "Initial state:\n",
      "\n",
      "Quantum object: dims = [[2], [1]], shape = (2, 1), type = ket\n",
      "Qobj data =\n",
      "[[1.]\n",
      " [0.]]\n",
      "\n",
      "Final state:\n",
      "\n",
      "Quantum object: dims = [[2], [1]], shape = (2, 1), type = ket\n",
      "Qobj data =\n",
      "[[-0.01166192+8.42690965e-06j]\n",
      " [ 0.06005668-9.98126843e-01j]]\n",
      "\n",
      "Final state probabilities:\n",
      "\n",
      "[[1.36000396e-04]\n",
      " [9.99864000e-01]]\n"
     ]
    }
   ],
   "source": [
    "eps_amp = 10\n",
    "total_time = 100\n",
    "f,s = calculate_crossing()"
   ]
  },
  {
   "cell_type": "markdown",
   "metadata": {},
   "source": [
    "OK, good: this is a slow ramp, we should be diabatic.  We start in the ground state at $t=0$ (left well) and end up in the new ground state (right well) at the end of the ramp."
   ]
  },
  {
   "cell_type": "markdown",
   "metadata": {},
   "source": [
    "## Fast ramp\n",
    "\n",
    "Let's try a fast ramp: 100 times faster than the characteristic time."
   ]
  },
  {
   "cell_type": "code",
   "execution_count": 10,
   "metadata": {
    "scrolled": true
   },
   "outputs": [
    {
     "name": "stdout",
     "output_type": "stream",
     "text": [
      "Initial state:\n",
      "\n",
      "Quantum object: dims = [[2], [1]], shape = (2, 1), type = ket\n",
      "Qobj data =\n",
      "[[1.]\n",
      " [0.]]\n",
      "\n",
      "Final state:\n",
      "\n",
      "Quantum object: dims = [[2], [1]], shape = (2, 1), type = ket\n",
      "Qobj data =\n",
      "[[9.99950003e-01-2.27533173e-05j]\n",
      " [1.66535413e-04-9.99817067e-03j]]\n",
      "\n",
      "Final state probabilities:\n",
      "\n",
      "[[9.99900009e-01]\n",
      " [9.99911508e-05]]\n"
     ]
    }
   ],
   "source": [
    "eps_amp = 10\n",
    "total_time = 1e-2\n",
    "f,s = calculate_crossing()"
   ]
  },
  {
   "cell_type": "markdown",
   "metadata": {},
   "source": [
    "OK, this works: with a fast ramp, we end up in the excited state (ie. we stay in the left well). Nice!"
   ]
  }
 ],
 "metadata": {
  "jupytext": {
   "formats": "ipynb,md"
  },
  "kernelspec": {
   "display_name": "Python 3",
   "language": "python",
   "name": "python3"
  },
  "language_info": {
   "codemirror_mode": {
    "name": "ipython",
    "version": 3
   },
   "file_extension": ".py",
   "mimetype": "text/x-python",
   "name": "python",
   "nbconvert_exporter": "python",
   "pygments_lexer": "ipython3",
   "version": "3.7.4"
  },
  "toc": {
   "base_numbering": 1,
   "nav_menu": {},
   "number_sections": false,
   "sideBar": true,
   "skip_h1_title": false,
   "title_cell": "Table of Contents",
   "title_sidebar": "Contents",
   "toc_cell": false,
   "toc_position": {},
   "toc_section_display": true,
   "toc_window_display": false
  }
 },
 "nbformat": 4,
 "nbformat_minor": 2
}
